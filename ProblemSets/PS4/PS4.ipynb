{
 "cells": [
  {
   "cell_type": "code",
   "execution_count": 1,
   "metadata": {},
   "outputs": [],
   "source": [
    "import numpy as np\n",
    "import pandas as pd\n",
    "from scipy import optimize\n",
    "from matplotlib import pyplot as plt\n",
    "import time"
   ]
  },
  {
   "cell_type": "markdown",
   "metadata": {},
   "source": [
    "### Exercise 2.1"
   ]
  },
  {
   "cell_type": "code",
   "execution_count": 3,
   "metadata": {},
   "outputs": [],
   "source": [
    "A = 1                \n",
    "alpha = 0.35         \n",
    "beta = 0.442        \n",
    "delta = 0.6415      \n",
    "sigma = 3           \n",
    "nvec = np.array([1, 1, 0.2])       \n",
    "f_params = (nvec, A, alpha, delta) "
   ]
  },
  {
   "cell_type": "code",
   "execution_count": 5,
   "metadata": {},
   "outputs": [],
   "source": [
    "def feasible(f_params, bvec_guess):\n",
    "    nvec, A, alpha, delta = f_params\n",
    "    K = np.sum(bvec_guess)\n",
    "    L = np.sum(nvec)\n",
    "    r = A * alpha * ((L / K) ** (1 - alpha)) - delta\n",
    "    w = A * (1 - alpha) * ((K / L) ** alpha)\n",
    "    c1 = w * nvec[0] - bvec_guess[0]\n",
    "    c2 = w * nvec[1] + (1 + r) * bvec_guess[0] - bvec_guess[1]\n",
    "    c3 = w * nvec[2] + (1 + r) * bvec_guess[1]\n",
    "    return ((c1 <= 0) or (c2 <= 0),  (c2 <= 0) or (c3 <=0)), (c1 <= 0, c2 <= 0, c3 <=0), (K <= 0)"
   ]
  },
  {
   "cell_type": "code",
   "execution_count": 11,
   "metadata": {},
   "outputs": [
    {
     "name": "stdout",
     "output_type": "stream",
     "text": [
      "a. ((True, False), (True, False, False), False) -- Period 1 constraint is violated.\n",
      "b. ((False, False), (False, False, False), False) -- No constraint is violated.\n",
      "c. ((False, False), (False, False, False), False) -- No constraint is violated.\n"
     ]
    }
   ],
   "source": [
    "print('a.',feasible(f_params, np.array([1.0, 1.2])),'-- Period 1 constraint is violated.')\n",
    "print('b.',feasible(f_params, np.array([0.06, -0.001])),'-- No constraint is violated.')\n",
    "print('c.',feasible(f_params, np.array([0.1, 0.1])),'-- No constraint is violated.')"
   ]
  },
  {
   "cell_type": "markdown",
   "metadata": {},
   "source": [
    "### Exercise 2.2\n",
    "#### a.b."
   ]
  },
  {
   "cell_type": "code",
   "execution_count": 32,
   "metadata": {},
   "outputs": [],
   "source": [
    "def get_eul_err(bvec, f_params):\n",
    "    nvec, A, alpha, delta, beta = f_params\n",
    "    b2, b3 = bvec\n",
    "    L = np.sum(nvec)\n",
    "    K = np.sum(bvec)\n",
    "    r = A * alpha * ((L / K) ** (1 - alpha)) - delta\n",
    "    w = A * (1 - alpha) * ((K / L) ** alpha)\n",
    "    c1 = w * nvec[0] - bvec_guess[0]\n",
    "    c2 = w * nvec[1] + (1 + r) * bvec_guess[0] - bvec_guess[1]\n",
    "    c3 = w * nvec[2] + (1 + r) * bvec_guess[1]\n",
    "    err1 = (w - b2) ** (-sigma)  - beta * (1 + r) * (w + (1 + r) * b2 - b3) ** (-sigma)\n",
    "    err2 = (w + (1 + r) * b2 - b3) ** (-sigma) - beta * (1 + r) * (0.2 * w + (1 + r) * b3) ** (-sigma)\n",
    "    return np.array([err1, err2])\n",
    "\n",
    "def get_SS(params, bvec_guess, SS_graphs=False):  \n",
    "    start_time = time.time()\n",
    "    beta, sigma, nvec, L, A, alpha, delta, SS_tol = params\n",
    "    f_params = np.array([nvec, A, alpha, delta, beta])\n",
    "    result = optimize.root(get_eul_err, bvec_guess, args =f_params)\n",
    "    b_ss = result.x \n",
    "    b2, b3 = b_ss\n",
    "    K_ss = b2+b3\n",
    "    r_ss = A * alpha * ((L / K_ss) ** (1 - alpha)) - delta\n",
    "    Y_ss = A * K_ss ** alpha * L **(1 - alpha)\n",
    "    w_ss = A * (1 - alpha) * ((K_ss / L) ** alpha)\n",
    "    c1 = w_ss * nvec[0] - b2\n",
    "    c2 = w_ss * nvec[1] + (1 + r_ss) * b2- b3\n",
    "    c3 = w_ss * nvec[2] + (1 + r_ss) * b3\n",
    "    c_ss = np.array([c1, c2, c3])\n",
    "    C_ss = c_ss.sum()\n",
    "    EulErr_ss = result.fun\n",
    "    RCerr_ss = Y_ss - C_ss - delta * K_ss\n",
    "    ss_time = time.time() - start_time\n",
    "    \n",
    "    ss_output = {'b_ss': b_ss, 'c_ss': c_ss, 'w_ss': w_ss, 'r_ss': r_ss,\n",
    "    'K_ss': K_ss, 'Y_ss': Y_ss, 'C_ss': C_ss,'EulErr_ss': EulErr_ss, 'RCerr_ss': RCerr_ss,\n",
    "    'ss_time': ss_time}\n",
    "        \n",
    "    if SS_graphs:\n",
    "        fig, ax = plt.subplots()\n",
    "        ax.plot((1,2,3), c_ss,marker = '.',  label = 'Consumptions')\n",
    "        ax.plot((2,3), b_ss,marker = '.',  label = 'Savings')\n",
    "        ax.legend()\n",
    "        ax.set_title('Steady State Consumptions and Savings')\n",
    "        plt.show()\n",
    "    return ss_output"
   ]
  },
  {
   "cell_type": "code",
   "execution_count": 38,
   "metadata": {},
   "outputs": [
    {
     "data": {
      "image/png": "[encoded data removed]",
      "text/plain": [
       "<Figure size 432x288 with 1 Axes>"
      ]
     },
     "metadata": {
      "needs_background": "light"
     },
     "output_type": "display_data"
    },
    {
     "data": {
      "text/plain": [
       "{'b_ss': array([0.01931253, 0.0584111 ]),\n",
       " 'c_ss': array([0.18241213, 0.20961468, 0.24087387]),\n",
       " 'w_ss': 0.20172465739052575,\n",
       " 'r_ss': 2.433062339127069,\n",
       " 'K_ss': 0.07772362575316386,\n",
       " 'Y_ss': 0.6827603788602411,\n",
       " 'C_ss': 0.6329006729395864,\n",
       " 'EulErr_ss': array([-1.39266376e-12,  2.62900812e-12]),\n",
       " 'RCerr_ss': 8.326672684688674e-17,\n",
       " 'ss_time': 0.000997304916381836}"
      ]
     },
     "execution_count": 38,
     "metadata": {},
     "output_type": "execute_result"
    }
   ],
   "source": [
    "SS_tol = 1e-10\n",
    "params = [beta, sigma, nvec, nvec.sum(), A, alpha, delta, SS_tol]\n",
    "ss_output=get_SS(params, np.array([0.1, 0.1]), SS_graphs=True)\n",
    "ss_output"
   ]
  },
  {
   "cell_type": "markdown",
   "metadata": {},
   "source": [
    "#### C."
   ]
  },
  {
   "cell_type": "code",
   "execution_count": 36,
   "metadata": {},
   "outputs": [
    {
     "data": {
      "image/png": "[encoded data removed]",
      "text/plain": [
       "<Figure size 432x288 with 1 Axes>"
      ]
     },
     "metadata": {
      "needs_background": "light"
     },
     "output_type": "display_data"
    },
    {
     "data": {
      "text/plain": [
       "{'b_ss': array([0.02817692, 0.07686545]),\n",
       " 'c_ss': array([0.19597528, 0.22861594, 0.26669307]),\n",
       " 'w_ss': 0.22415219593446706,\n",
       " 'r_ss': 1.8863765057189819,\n",
       " 'K_ss': 0.1050423702259807,\n",
       " 'Y_ss': 0.7586689708551193,\n",
       " 'C_ss': 0.6912842903551526,\n",
       " 'EulErr_ss': array([6.87805368e-12, 2.52953214e-12]),\n",
       " 'RCerr_ss': 9.71445146547012e-17,\n",
       " 'ss_time': 0.0009648799896240234}"
      ]
     },
     "execution_count": 36,
     "metadata": {},
     "output_type": "execute_result"
    }
   ],
   "source": [
    "params2 = [0.55, sigma, nvec, nvec.sum(), A, alpha, delta, SS_tol]\n",
    "get_SS(params2, np.array([0.1, 0.1]), SS_graphs=True)"
   ]
  },
  {
   "cell_type": "markdown",
   "metadata": {},
   "source": [
    "From the plot, we can see that when $\\beta$ increases, consumptions $\\bar{c}$, saving $\\bar{b}$, and wage $\\bar{w}$ all increase, and only the interest rate $\\bar{r}$ decreases. \n",
    "When the discount rate is higher, households will put more value in future than in the present, which leads to more savings for the future, and  the interest rate will decrease. As firms will rent more capital, and help workers produce more, there will be higher wage and therefore higher consumptions. \n",
    "\n",
    "\n",
    "### Exercise 3.\n",
    "#### a."
   ]
  },
  {
   "cell_type": "code",
   "execution_count": 45,
   "metadata": {},
   "outputs": [
    {
     "name": "stdout",
     "output_type": "stream",
     "text": [
      "Maximum of the absolute values of all the Euler errors: 37.40392243671714\n",
      "Maximum of the absolute values of all the resource constraint errors: 0.00577342786005447\n"
     ]
    }
   ],
   "source": [
    "def timepath(K_path_update, K_init, K_ss, T, A, alpha, delta, nvec, m, Type):\n",
    "    path = np.zeros([T + m, 4])\n",
    "    period_path  = np.arange(1, T + m +1)\n",
    "    if Type == \"linear\":\n",
    "        K_path = np.linspace(K_init, K_ss, num = T)\n",
    "    if Type == \"update\":\n",
    "        K_path = K_path_update\n",
    "    path[: , 0] = period_path\n",
    "    path[: -m, 1] = K_path\n",
    "    path[-m: , 1] = K_ss\n",
    "    path[: , 2] = get_w(path[: , 1], nvec.sum(), alpha, A)\n",
    "    path[: , 3] = get_r(path[: , 1], nvec.sum(), alpha, delta, A)\n",
    "    return path\n",
    "\n",
    "get_cons = lambda b_s, b_s_1, n_s, r, w: w * n_s + (1 + r) * b_s - b_s_1\n",
    "get_MU = lambda c, sigma=3: c ** (-sigma)\n",
    "get_w = lambda K, L, alpha, A: A * (1 - alpha) * ((K / L) ** alpha)\n",
    "get_Y = lambda K, L, alpha, A: A * (K ** alpha) * (L ** (1-alpha))\n",
    "get_r = lambda K, L, alpha, delta, A : A * alpha * ((L / K) ** (1 - alpha)) - delta\n",
    "def get_eul_err(bvec, *args):\n",
    "    w1, w2, w3, r2, r3, beta, alpha, delta, sigma, A, nvec = args\n",
    "    b2, b3 = bvec\n",
    "    L = nvec.sum()\n",
    "    K = b2+b3\n",
    "    c1 = get_cons(0, b2, nvec[0], r2, w1)\n",
    "    c2 = get_cons(b2, b3, nvec[1], r2, w2)\n",
    "    c3 = get_cons(b3, 0, nvec[2], r3, w3)\n",
    "    MU1 = get_MU(c1)\n",
    "    MU2 = get_MU(c2)\n",
    "    MU3 = get_MU(c3)\n",
    "    Eul1 = MU1 - beta*(1+r2) * MU2\n",
    "    Eul2 = MU2 - beta*(1+r3) * MU3\n",
    "    Euler_errs = np.array([Eul1, Eul2])\n",
    "    return Euler_errs\n",
    "\n",
    "def get_b32(b32, *args):\n",
    "    r2, r3, b21, w2, w3, beta, sigma, nvec = args\n",
    "    c2  = get_cons(b21, b32, nvec[1], r2, w2)\n",
    "    c3  = get_cons(b32, 0, nvec[2], r3, w3)\n",
    "    MU2 = get_MU(c2)\n",
    "    MU3 = get_MU(c3)\n",
    "    error =  MU2 - beta * (1 + r3) * MU3\n",
    "    return error\n",
    "\n",
    "def solve_path(path, *args):\n",
    "    bvec_init_val, T, m, beta, alpha, delta, sigma, A, nvec, bvec_ss = args\n",
    "    b_mat = np.zeros([T + m, 3])\n",
    "    b_mat[0, 0:-1] = bvec_init_val\n",
    "    b32_init = 0.1\n",
    "    b32_args  = (path[0 , 3], path[1 , 3], b_mat[0 , 0], path[0 , 2], path[1 , 2], beta, sigma, nvec)\n",
    "    b32 = optimize.root(get_b32, b32_init, args = (b32_args))\n",
    "    b32 = b32.x\n",
    "    b_mat[1 , 1] = b32\n",
    "    for i in range(path.shape[0]-2):\n",
    "        w1 = path[i - 1 , 2]\n",
    "        w2 = path[i , 2]\n",
    "        w3 = path[i + 1 , 2]\n",
    "        r2 = path[i , 3]\n",
    "        r3 = path[i + 1, 3]\n",
    "        ts_args = (w1, w2, w3, r2, r3, beta, alpha, delta, sigma, A, nvec)\n",
    "        bvec_ts = optimize.root(get_eul_err, bvec_init, args = (ts_args))\n",
    "        b_mat[i , 0] = bvec_ts.x[0]\n",
    "        b_mat[i + 1, 1] = bvec_ts.x[1]\n",
    "    b_mat[: , 2] = b_mat[: , 0] + b_mat[: , 1]\n",
    "    return b_mat\n",
    "\n",
    "def TPI(path_init, xival, tol, *args):\n",
    "    bvec_init, T, m, beta, alpha, delta, sigma, A, nvec, bvec_ss, K_ss = args\n",
    "    b_mat = np.zeros([T + m, 3])\n",
    "    b_mat[0, 0:-1] = bvec_init\n",
    "    b_HH_init  = solve_path(path_init, bvec_init, T, m, beta, alpha, delta, sigma, A, nvec, bvec_ss)\n",
    "    diff_init = sum(((path_init[: -m, 1] - b_HH_init[: -m, 2])/path_init[: -m, 1])**2)\n",
    "    if diff_init > tol:\n",
    "        path = path_init\n",
    "        b_HH = b_HH_init\n",
    "        diff = diff_init\n",
    "        iter_num = 0\n",
    "        while diff > tol:\n",
    "            update = xival * b_HH[: -m, 2] + (1 - xival) * path[: -m, 1]\n",
    "            path = timepath(update, 0, K_ss, T, A, alpha, delta, nvec, m, \"update\")\n",
    "            b_HH = solve_path(path, bvec_init, T, m, beta, alpha, delta, sigma, A, nvec, bvec_ss)\n",
    "            diff = sum(((path[: -m, 1] - b_HH[: -m, 2])/path[: -m, 1])**2)\n",
    "            iter_num = iter_num + 1\n",
    "        result = (path, b_HH)\n",
    "    else:\n",
    "        result =  (path_init, b_HH_init)\n",
    "    return result\n",
    "xival = 0.1\n",
    "tol = 1e-9\n",
    "bvec_init = np.array([0.8 * ss_output['b_ss'][0], 1.1 * ss_output['b_ss'][1]])\n",
    "T = 30\n",
    "m = 25\n",
    "bvec_ss = ss_output['b_ss']\n",
    "K_ss = ss_output['K_ss']\n",
    "K_init = bvec_init.sum()\n",
    "path_init = timepath(0, K_init, K_ss, T, A, alpha, delta, nvec, m, \"linear\")\n",
    "path = TPI(path_init, xival, tol,  bvec_init, T, m, beta, alpha, delta, sigma, A, nvec, bvec_ss, K_ss)\n",
    "K_path = path[0][:, [0 , 1]]\n",
    "w_path = path[0][:, [0 , 2]]\n",
    "r_path = path[0][:, [0 , 3]]\n",
    "b_path = path[1][:,:2]\n",
    "\n",
    "get_eul_err_path = np.zeros((30, 2))\n",
    "RCerr_path = np.zeros(30)\n",
    "for i in range(30):\n",
    "    if i == 0:\n",
    "        rt = rt1 = r_path[0,1]\n",
    "        wt = wt1 = w_path[0,1]\n",
    "        b2t = b2t1 = b_path[0, 0]\n",
    "        b3t = b3t1 = b_path[0, 1]\n",
    "    else:\n",
    "        rt, rt1 = r_path[i, 1], r_path[i-1, 1]\n",
    "        b2t, b3t = b_path[i,:]\n",
    "        b2t1, b3t1 = b_path[i-1, :]\n",
    "        wt, wt1 = w_path[i,1], w_path[i-1, 1]\n",
    "    Kt = K_path[i,1]\n",
    "    Kt_1 = K_path[i+1, 1]\n",
    "    Yt = get_Y(Kt, nvec.sum(), alpha, A)\n",
    "    c1t = get_cons(0, b2t, nvec[0], rt, wt)\n",
    "    c2t = get_cons(b2t1, b3t, nvec[1], rt1, wt)\n",
    "    c3t = get_cons(b3t1, 0, nvec[2], rt1, wt)\n",
    "    Ct = c1t + c2t + c3t\n",
    "    RCerr_path[i] = Yt - Ct - Kt_1 + (1 - delta) * Kt\n",
    "    get_eul_err_path[i, :] = get_eul_err(b_path[i, :], w_path[i,1], w_path[i+1,1], \n",
    "                               w_path[i+2,1], r_path[i+1,1], r_path[i+2,1], \n",
    "                               beta, alpha, delta, sigma, A, nvec)\n",
    "print('Maximum of the absolute values of all the Euler errors:', np.abs(get_eul_err_path).max())\n",
    "print('Maximum of the absolute values of all the resource constraint errors:', np.abs(RCerr_path).max())\n"
   ]
  },
  {
   "cell_type": "markdown",
   "metadata": {},
   "source": [
    "#### b.c."
   ]
  },
  {
   "cell_type": "code",
   "execution_count": 46,
   "metadata": {},
   "outputs": [
    {
     "data": {
      "image/png": "[encoded data removed]",
      "text/plain": [
       "<Figure size 432x288 with 1 Axes>"
      ]
     },
     "metadata": {
      "needs_background": "light"
     },
     "output_type": "display_data"
    },
    {
     "data": {
      "image/png": "[encoded data removed]",
      "text/plain": [
       "<Figure size 432x288 with 1 Axes>"
      ]
     },
     "metadata": {
      "needs_background": "light"
     },
     "output_type": "display_data"
    },
    {
     "data": {
      "image/png": "[encoded data removed]",
      "text/plain": [
       "<Figure size 432x288 with 1 Axes>"
      ]
     },
     "metadata": {
      "needs_background": "light"
     },
     "output_type": "display_data"
    },
    {
     "name": "stdout",
     "output_type": "stream",
     "text": [
      "12 periods till getting within 0.00001 of the steady-state aggregate capital stock\n",
      "12 periods till the aggregate capital stock never is again farther than 0.00001 away from the steady-state.\n"
     ]
    }
   ],
   "source": [
    "K_fig = plt.figure()\n",
    "plt.plot(K_path[: , 0], K_path[: , 1])\n",
    "plt.xlabel('periods')\n",
    "plt.ylabel('aggregate capital stock')\n",
    "plt.title('Aggregate capital stock')\n",
    "plt.show()\n",
    "\n",
    "w_fig = plt.figure()\n",
    "plt.plot(w_path[: , 0], w_path[: , 1])\n",
    "plt.xlabel('periods')\n",
    "plt.ylabel('wage')\n",
    "plt.title('Wage')\n",
    "plt.show()\n",
    "\n",
    "\n",
    "r_fig = plt.figure()\n",
    "plt.plot(r_path[: , 0], r_path[: , 1])\n",
    "plt.xlabel('periods')\n",
    "plt.ylabel('interest rate')\n",
    "plt.title('Interest rate')\n",
    "plt.show()\n",
    "    \n",
    "for i in range(50):\n",
    "    K = K_path[i, 1]\n",
    "    if abs(K - K_ss) <= 1e-05:\n",
    "        print('{} periods till getting within 0.00001 of the steady-state aggregate capital stock'.format(int(K_path[i, 0])))\n",
    "        break\n",
    "for i in range(50):\n",
    "    K_mat = K_path[i:, 1]\n",
    "    Diff = np.abs(K_mat - K_ss)\n",
    "    if np.sum(Diff > 0.00001) == 0:\n",
    "        print(\"{} periods till the aggregate capital stock never is again farther than 0.00001 away from the steady-state.\".format(int(K_path[i, 0])))\n",
    "        break"
   ]
  },
  {
   "cell_type": "code",
   "execution_count": null,
   "metadata": {},
   "outputs": [],
   "source": []
  }
 ],
 "metadata": {
  "kernelspec": {
   "display_name": "Python 3",
   "language": "python",
   "name": "python3"
  },
  "language_info": {
   "codemirror_mode": {
    "name": "ipython",
    "version": 3
   },
   "file_extension": ".py",
   "mimetype": "text/x-python",
   "name": "python",
   "nbconvert_exporter": "python",
   "pygments_lexer": "ipython3",
   "version": "3.7.4"
  }
 },
 "nbformat": 4,
 "nbformat_minor": 2
}
