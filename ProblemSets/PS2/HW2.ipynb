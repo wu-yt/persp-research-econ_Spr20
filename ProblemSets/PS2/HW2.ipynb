{
 "cells": [
  {
   "cell_type": "code",
   "execution_count": 8,
   "metadata": {},
   "outputs": [
    {
     "name": "stdout",
     "output_type": "stream",
     "text": [
      "Number of available cores is 4\n"
     ]
    }
   ],
   "source": [
    "import numpy as np\n",
    "import pandas as pd\n",
    "import multiprocessing\n",
    "import time\n",
    "from sklearn.linear_model import LogisticRegression as lr\n",
    "from sklearn.model_selection import train_test_split\n",
    "from dask import compute, delayed\n",
    "import dask.multiprocessing\n",
    "import warnings\n",
    "warnings.filterwarnings(\"ignore\")\n",
    "num_core = multiprocessing.cpu_count()\n",
    "print('Number of available cores is', num_cores)"
   ]
  },
  {
   "cell_type": "code",
   "execution_count": 6,
   "metadata": {},
   "outputs": [
    {
     "name": "stdout",
     "output_type": "stream",
     "text": [
      "Average error rate : 0.10072463768115941\n",
      "Computation Time: 3.013232707977295 \n"
     ]
    }
   ],
   "source": [
    "auto = pd.read_csv(\"data/Auto.csv\", na_values=\"?\").dropna()\n",
    "auto[\"mpg_high\"] = np.where(auto.mpg > auto.mpg.median(), 1, 0)\n",
    "auto[\"orgn1\"] = auto.origin == 1\n",
    "auto[\"orgn2\"] = auto.origin == 2\n",
    "X = auto[[\"cylinders\", \"displacement\", \"horsepower\", \"weight\", \"acceleration\", \"year\", \"orgn1\", \"orgn2\"]]\n",
    "y = auto[\"mpg_high\"]\n",
    "st = time.time()\n",
    "mse_1 = []\n",
    "\n",
    "for i in range(100):\n",
    "    X_train, X_test, y_train, y_test = train_test_split(X, y, train_size=0.65, random_state=i)\n",
    "    clf = lr(solver=\"lbfgs\", max_iter=200, n_jobs=1).fit(X_train, y_train)\n",
    "    y_pred = clf.predict(X_test)\n",
    "    m = ((y_test - y_pred) ** 2).mean()\n",
    "    mse_1.append(m)\n",
    "    \n",
    "avg_mse_1 = np.array(mse_1).mean()\n",
    "\n",
    "print(\"Average error rate : {}\".format(avg_mse_1))\n",
    "print(\"Computation Time: {} \".format(time.time() - st))"
   ]
  },
  {
   "cell_type": "code",
   "execution_count": 10,
   "metadata": {},
   "outputs": [
    {
     "name": "stdout",
     "output_type": "stream",
     "text": [
      "Average error rate : 0.10072463768115941\n",
      "Computation time : 4.433130979537964 \n"
     ]
    }
   ],
   "source": [
    "def cal_err_rate(boot_num, seed, data_X, data_y):\n",
    "    X_train, X_test, y_train, y_test = train_test_split(data_X, data_y, train_size=0.65, random_state=seed)\n",
    "    clf = lr(solver=\"lbfgs\", max_iter=200, n_jobs=1).fit(X_train, y_train)\n",
    "    y_pred = clf.predict(X_test)\n",
    "    mse = ((y_test - y_pred) ** 2).mean()\n",
    "    return mse\n",
    "st = time.time()\n",
    "mse2 = []\n",
    "for i in range(100):\n",
    "    mse2.append(delayed(cal_err_rate)(i, i, X, y))\n",
    "results = compute(mse2, schedule=dask.multiprocessing.get, num_workers=num_core)\n",
    "\n",
    "print(\"Average error rate : {}\".format(np.mean(results)))\n",
    "print(\"Computation time : {} \".format(time.time() - st))"
   ]
  },
  {
   "cell_type": "code",
   "execution_count": null,
   "metadata": {},
   "outputs": [],
   "source": []
  }
 ],
 "metadata": {
  "kernelspec": {
   "display_name": "Python 3",
   "language": "python",
   "name": "python3"
  },
  "language_info": {
   "codemirror_mode": {
    "name": "ipython",
    "version": 3
   },
   "file_extension": ".py",
   "mimetype": "text/x-python",
   "name": "python",
   "nbconvert_exporter": "python",
   "pygments_lexer": "ipython3",
   "version": "3.7.4"
  }
 },
 "nbformat": 4,
 "nbformat_minor": 2
}
